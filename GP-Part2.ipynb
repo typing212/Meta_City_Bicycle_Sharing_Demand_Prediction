{
 "cells": [
  {
   "cell_type": "code",
   "execution_count": 1,
   "metadata": {
    "ExecuteTime": {
     "end_time": "2021-11-19T07:14:09.366688Z",
     "start_time": "2021-11-19T07:14:09.348737Z"
    }
   },
   "outputs": [],
   "source": [
    "%config Completer.use_jedi = False\n",
    "\n",
    "import warnings\n",
    "warnings.simplefilter(\"ignore\")"
   ]
  },
  {
   "cell_type": "code",
   "execution_count": 2,
   "metadata": {
    "ExecuteTime": {
     "end_time": "2021-11-19T07:14:20.949005Z",
     "start_time": "2021-11-19T07:14:10.339140Z"
    }
   },
   "outputs": [],
   "source": [
    "import pandas as pd\n",
    "import matplotlib.pyplot as plt"
   ]
  },
  {
   "cell_type": "markdown",
   "metadata": {},
   "source": [
    "## Classification"
   ]
  },
  {
   "cell_type": "markdown",
   "metadata": {},
   "source": [
    "### Model Setup"
   ]
  },
  {
   "cell_type": "code",
   "execution_count": 43,
   "metadata": {
    "ExecuteTime": {
     "end_time": "2021-11-17T14:31:13.239612Z",
     "start_time": "2021-11-17T14:31:13.185789Z"
    }
   },
   "outputs": [],
   "source": [
    "df = pd.read_csv('./df_update.csv')"
   ]
  },
  {
   "cell_type": "code",
   "execution_count": 44,
   "metadata": {
    "ExecuteTime": {
     "end_time": "2021-11-17T14:31:13.364306Z",
     "start_time": "2021-11-17T14:31:13.241615Z"
    }
   },
   "outputs": [
    {
     "name": "stdout",
     "output_type": "stream",
     "text": [
      "<class 'pandas.core.frame.DataFrame'>\n",
      "RangeIndex: 7122 entries, 0 to 7121\n",
      "Data columns (total 24 columns):\n",
      " #   Column     Non-Null Count  Dtype  \n",
      "---  ------     --------------  -----  \n",
      " 0   cluster    7122 non-null   int64  \n",
      " 1   SEQ        7122 non-null   int64  \n",
      " 2   DAYS       7122 non-null   int64  \n",
      " 3   HOURS      7122 non-null   int64  \n",
      " 4   LABORFREE  7122 non-null   int64  \n",
      " 5   WENDFREE   7122 non-null   int64  \n",
      " 6   MOVE       7122 non-null   int64  \n",
      " 7   TOTAL      7122 non-null   int64  \n",
      " 8   HDB        7122 non-null   float64\n",
      " 9   PRIVATE    7122 non-null   float64\n",
      " 10  COMM       7122 non-null   float64\n",
      " 11  INDU       7122 non-null   float64\n",
      " 12  CYCLPATH   7122 non-null   float64\n",
      " 13  BUS_STOP   7122 non-null   int64  \n",
      " 14  ROADINT    7122 non-null   int64  \n",
      " 15  ROAD_LIN   7122 non-null   int64  \n",
      " 16  ENTROPY    7122 non-null   float64\n",
      " 17  MRTDIST    7122 non-null   float64\n",
      " 18  DISTCEN    7122 non-null   float64\n",
      " 19  RAIN       7122 non-null   float64\n",
      " 20  TEMPO      7122 non-null   float64\n",
      " 21  x          7122 non-null   float64\n",
      " 22  y          7122 non-null   float64\n",
      " 23  level      7122 non-null   object \n",
      "dtypes: float64(12), int64(11), object(1)\n",
      "memory usage: 1.3+ MB\n"
     ]
    }
   ],
   "source": [
    "df.info()"
   ]
  },
  {
   "cell_type": "code",
   "execution_count": 45,
   "metadata": {
    "ExecuteTime": {
     "end_time": "2021-11-17T14:31:13.380290Z",
     "start_time": "2021-11-17T14:31:13.367264Z"
    }
   },
   "outputs": [],
   "source": [
    "from sklearn.linear_model import LogisticRegression\n",
    "from sklearn.svm import SVC\n",
    "from sklearn.tree import DecisionTreeClassifier\n",
    "from sklearn.ensemble import RandomForestClassifier, AdaBoostClassifier\n",
    "from sklearn.naive_bayes import GaussianNB\n",
    "\n",
    "from sklearn.model_selection import train_test_split\n",
    "from sklearn.metrics import classification_report\n",
    "from sklearn.preprocessing import OrdinalEncoder\n",
    "\n",
    "from sklearn.metrics import confusion_matrix\n",
    "from sklearn.metrics import ConfusionMatrixDisplay"
   ]
  },
  {
   "cell_type": "code",
   "execution_count": 46,
   "metadata": {
    "ExecuteTime": {
     "end_time": "2021-11-17T14:31:13.442990Z",
     "start_time": "2021-11-17T14:31:13.383221Z"
    }
   },
   "outputs": [
    {
     "name": "stdout",
     "output_type": "stream",
     "text": [
      "(7122, 14) (7122, 1)\n"
     ]
    }
   ],
   "source": [
    "columns_X = [\n",
    "    'HOURS', 'HDB', 'PRIVATE', 'COMM', 'INDU', 'CYCLPATH', 'BUS_STOP',\n",
    "    'ROADINT', 'ROAD_LIN', 'ENTROPY', 'MRTDIST', 'DISTCEN', 'LABORFREE',\n",
    "    'WENDFREE'\n",
    "]\n",
    "\n",
    "columns_y = ['level']\n",
    "\n",
    "X = df[columns_X].values\n",
    "y = df[columns_y].values\n",
    "print(X.shape, y.shape)\n",
    "\n",
    "#encoding\n",
    "enc = OrdinalEncoder()\n",
    "y = enc.fit_transform(y)\n",
    "target_names = ['high', 'low', 'normal']\n",
    "\n",
    "#train_test_split\n",
    "X_train, X_test, y_train, y_test = train_test_split(X,\n",
    "                                                    y,\n",
    "                                                    test_size=.3,\n",
    "                                                    stratify=y)"
   ]
  },
  {
   "cell_type": "code",
   "execution_count": 47,
   "metadata": {
    "ExecuteTime": {
     "end_time": "2021-11-17T14:31:24.404963Z",
     "start_time": "2021-11-17T14:31:13.444991Z"
    }
   },
   "outputs": [
    {
     "name": "stdout",
     "output_type": "stream",
     "text": [
      "---------- Logistic ----------\n",
      "              precision    recall  f1-score   support\n",
      "\n",
      "        high       0.91      0.87      0.89       583\n",
      "         low       1.00      1.00      1.00       517\n",
      "      normal       0.93      0.95      0.94      1037\n",
      "\n",
      "    accuracy                           0.94      2137\n",
      "   macro avg       0.95      0.94      0.94      2137\n",
      "weighted avg       0.94      0.94      0.94      2137\n",
      "\n",
      "---------- RBF SVM ----------\n",
      "              precision    recall  f1-score   support\n",
      "\n",
      "        high       0.00      0.00      0.00       583\n",
      "         low       0.00      0.00      0.00       517\n",
      "      normal       0.49      1.00      0.65      1037\n",
      "\n",
      "    accuracy                           0.49      2137\n",
      "   macro avg       0.16      0.33      0.22      2137\n",
      "weighted avg       0.24      0.49      0.32      2137\n",
      "\n",
      "---------- Decision Tree ----------\n",
      "              precision    recall  f1-score   support\n",
      "\n",
      "        high       0.98      0.97      0.98       583\n",
      "         low       1.00      1.00      1.00       517\n",
      "      normal       0.99      0.99      0.99      1037\n",
      "\n",
      "    accuracy                           0.99      2137\n",
      "   macro avg       0.99      0.99      0.99      2137\n",
      "weighted avg       0.99      0.99      0.99      2137\n",
      "\n",
      "---------- Random Forest ----------\n",
      "              precision    recall  f1-score   support\n",
      "\n",
      "        high       1.00      0.87      0.93       583\n",
      "         low       0.99      1.00      1.00       517\n",
      "      normal       0.93      1.00      0.96      1037\n",
      "\n",
      "    accuracy                           0.96      2137\n",
      "   macro avg       0.97      0.95      0.96      2137\n",
      "weighted avg       0.96      0.96      0.96      2137\n",
      "\n",
      "---------- AdaBoost ----------\n",
      "              precision    recall  f1-score   support\n",
      "\n",
      "        high       0.39      0.37      0.38       583\n",
      "         low       1.00      0.78      0.88       517\n",
      "      normal       0.59      0.68      0.64      1037\n",
      "\n",
      "    accuracy                           0.62      2137\n",
      "   macro avg       0.66      0.61      0.63      2137\n",
      "weighted avg       0.64      0.62      0.62      2137\n",
      "\n",
      "---------- Naive Bayes ----------\n",
      "              precision    recall  f1-score   support\n",
      "\n",
      "        high       0.88      0.78      0.83       583\n",
      "         low       0.80      1.00      0.89       517\n",
      "      normal       0.87      0.82      0.85      1037\n",
      "\n",
      "    accuracy                           0.85      2137\n",
      "   macro avg       0.85      0.87      0.86      2137\n",
      "weighted avg       0.86      0.85      0.85      2137\n",
      "\n"
     ]
    },
    {
     "data": {
      "image/png": "[encoded data removed]",
      "text/plain": [
       "<Figure size 432x288 with 2 Axes>"
      ]
     },
     "metadata": {
      "needs_background": "light"
     },
     "output_type": "display_data"
    },
    {
     "data": {
      "image/png": "[encoded data removed]",
      "text/plain": [
       "<Figure size 432x288 with 2 Axes>"
      ]
     },
     "metadata": {
      "needs_background": "light"
     },
     "output_type": "display_data"
    },
    {
     "data": {
      "image/png": "[encoded data removed]",
      "text/plain": [
       "<Figure size 432x288 with 2 Axes>"
      ]
     },
     "metadata": {
      "needs_background": "light"
     },
     "output_type": "display_data"
    },
    {
     "data": {
      "image/png": "[encoded data removed]",
      "text/plain": [
       "<Figure size 432x288 with 2 Axes>"
      ]
     },
     "metadata": {
      "needs_background": "light"
     },
     "output_type": "display_data"
    },
    {
     "data": {
      "image/png": "[encoded data removed]",
      "text/plain": [
       "<Figure size 432x288 with 2 Axes>"
      ]
     },
     "metadata": {
      "needs_background": "light"
     },
     "output_type": "display_data"
    },
    {
     "data": {
      "image/png": "[encoded data removed]",
      "text/plain": [
       "<Figure size 432x288 with 2 Axes>"
      ]
     },
     "metadata": {
      "needs_background": "light"
     },
     "output_type": "display_data"
    }
   ],
   "source": [
    "names = [\n",
    "    \"Logistic\", \"RBF SVM\", \"Decision Tree\", \"Random Forest\",\n",
    "    \"AdaBoost\", \"Naive Bayes\"\n",
    "]\n",
    "\n",
    "classifiers = [\n",
    "    LogisticRegression(multi_class=\"multinomial\",\n",
    "                       solver=\"newton-cg\",\n",
    "                       max_iter=1000),\n",
    "    SVC(kernel=\"rbf\",gamma=2, C=0.1),\n",
    "    DecisionTreeClassifier(max_depth=5),\n",
    "    RandomForestClassifier(max_depth=5, n_estimators=10, max_features=1),\n",
    "    AdaBoostClassifier(),\n",
    "    GaussianNB(),\n",
    "]\n",
    "\n",
    "for name, clf in zip(names, classifiers):\n",
    "    clf.fit(X_train, y_train)\n",
    "    y_pred = clf.predict(X_test)\n",
    "\n",
    "    cm = confusion_matrix(y_test, y_pred, labels=clf.classes_)\n",
    "    disp = ConfusionMatrixDisplay(confusion_matrix=cm,\n",
    "                                  display_labels=clf.classes_)\n",
    "    disp.plot(cmap='YlGnBu')\n",
    "    plt.title(name)\n",
    "    plt.tight_layout()\n",
    "\n",
    "    print(\"----------\", name, \"----------\")\n",
    "    print(classification_report(y_test, y_pred, target_names=target_names))\n",
    "    #https://blog.csdn.net/akadiao/article/details/78788864\n",
    "plt.show()"
   ]
  },
  {
   "cell_type": "markdown",
   "metadata": {},
   "source": [
    "### Model Tuning"
   ]
  },
  {
   "cell_type": "markdown",
   "metadata": {},
   "source": [
    "* According to results shown above, Decision and Random Forest will be selected to be tuned."
   ]
  },
  {
   "cell_type": "code",
   "execution_count": 48,
   "metadata": {
    "ExecuteTime": {
     "end_time": "2021-11-17T14:31:24.419929Z",
     "start_time": "2021-11-17T14:31:24.406962Z"
    }
   },
   "outputs": [],
   "source": [
    "from sklearn.model_selection import GridSearchCV"
   ]
  },
  {
   "cell_type": "code",
   "execution_count": 49,
   "metadata": {
    "ExecuteTime": {
     "end_time": "2021-11-17T14:31:29.811566Z",
     "start_time": "2021-11-17T14:31:24.423919Z"
    }
   },
   "outputs": [
    {
     "name": "stdout",
     "output_type": "stream",
     "text": [
      "最优分类器: {'criterion': 'entropy', 'max_depth': 30, 'min_impurity_decrease': 0.1, 'min_samples_leaf': 2}\n",
      "--------------------------\n",
      "最优分数: 0.8619841580521846\n",
      "---------- Decision Tree ----------\n",
      "              precision    recall  f1-score   support\n",
      "\n",
      "        high       1.00      0.63      0.78       583\n",
      "         low       1.00      0.89      0.94       517\n",
      "      normal       0.79      1.00      0.88      1037\n",
      "\n",
      "    accuracy                           0.87      2137\n",
      "   macro avg       0.93      0.84      0.87      2137\n",
      "weighted avg       0.90      0.87      0.87      2137\n",
      "\n"
     ]
    },
    {
     "data": {
      "image/png": "[encoded data removed]",
      "text/plain": [
       "<Figure size 432x288 with 2 Axes>"
      ]
     },
     "metadata": {
      "needs_background": "light"
     },
     "output_type": "display_data"
    }
   ],
   "source": [
    "param = [{\n",
    "    'criterion': ['gini'],\n",
    "    'max_depth': [30, 50, 60, 100],\n",
    "    'min_samples_leaf': [2, 3, 5, 10],\n",
    "    'min_impurity_decrease': [0.1, 0.2, 0.5]\n",
    "}, {\n",
    "    'criterion': ['entropy'],\n",
    "    'max_depth': [30, 60, 100],\n",
    "    'min_samples_leaf': [2, 3, 5, 10],\n",
    "    'min_impurity_decrease': [0.1, 0.2, 0.5]\n",
    "}]\n",
    "\n",
    "grid = GridSearchCV(DecisionTreeClassifier(), param_grid=param, cv=6)\n",
    "grid.fit(X_train, y_train)\n",
    "print('最优分类器:', grid.best_params_)\n",
    "print('--------------------------')\n",
    "print('最优分数:', grid.best_score_)\n",
    "\n",
    "clf = grid.best_estimator_\n",
    "clf.fit(X_train, y_train)\n",
    "y_pred = clf.predict(X_test)\n",
    "\n",
    "cm = confusion_matrix(y_test, y_pred, labels=clf.classes_)\n",
    "disp = ConfusionMatrixDisplay(confusion_matrix=cm, display_labels=clf.classes_)\n",
    "disp.plot(cmap='YlGnBu')\n",
    "plt.title(\"Decision Tree\")\n",
    "plt.tight_layout()\n",
    "\n",
    "print(\"----------\", \"Decision Tree\", \"----------\")\n",
    "print(classification_report(y_test, y_pred, target_names=target_names))"
   ]
  },
  {
   "cell_type": "code",
   "execution_count": 52,
   "metadata": {
    "ExecuteTime": {
     "end_time": "2021-11-17T14:44:13.965594Z",
     "start_time": "2021-11-17T14:31:29.845456Z"
    },
    "scrolled": true
   },
   "outputs": [
    {
     "name": "stdout",
     "output_type": "stream",
     "text": [
      "最优分类器: {'criterion': 'gini', 'max_depth': 25, 'max_features': 4, 'min_samples_split': 5, 'n_estimators': 11}\n",
      "--------------------------\n",
      "最优分数: 0.9981947042079268\n",
      "---------- Random Forest ----------\n",
      "              precision    recall  f1-score   support\n",
      "\n",
      "        high       1.00      0.99      1.00       583\n",
      "         low       1.00      1.00      1.00       517\n",
      "      normal       0.99      1.00      1.00      1037\n",
      "\n",
      "    accuracy                           1.00      2137\n",
      "   macro avg       1.00      1.00      1.00      2137\n",
      "weighted avg       1.00      1.00      1.00      2137\n",
      "\n"
     ]
    },
    {
     "data": {
      "image/png": "[encoded data removed]",
      "text/plain": [
       "<Figure size 432x288 with 2 Axes>"
      ]
     },
     "metadata": {
      "needs_background": "light"
     },
     "output_type": "display_data"
    }
   ],
   "source": [
    "sqrtfeat = np.sqrt(X_train.shape[1])\n",
    "\n",
    "param = {\n",
    "    \"n_estimators\": range(1,101,10),\n",
    "    \"criterion\": [\"gini\", \"entropy\"],\n",
    "    \"max_features\": [3, 4, 5],\n",
    "    \"max_depth\": [5, 10, 25],\n",
    "    \"min_samples_split\": [2, 5, 10]\n",
    "}\n",
    "\n",
    "grid = GridSearchCV(RandomForestClassifier(), param_grid=param, cv=6)\n",
    "grid.fit(X_train, y_train)\n",
    "print('最优分类器:', grid.best_params_)\n",
    "print('--------------------------')\n",
    "print('最优分数:', grid.best_score_)\n",
    "\n",
    "clf = grid.best_estimator_\n",
    "clf.fit(X_train, y_train)\n",
    "y_pred = clf.predict(X_test)\n",
    "\n",
    "cm = confusion_matrix(y_test, y_pred, labels=clf.classes_)\n",
    "disp = ConfusionMatrixDisplay(confusion_matrix=cm, display_labels=clf.classes_)\n",
    "disp.plot(cmap='YlGnBu')\n",
    "plt.title(\"Random Forest\")\n",
    "plt.tight_layout()\n",
    "\n",
    "print(\"----------\", \"Random Forest\", \"----------\")\n",
    "print(classification_report(y_test, y_pred, target_names=target_names))"
   ]
  },
  {
   "cell_type": "markdown",
   "metadata": {},
   "source": [
    "### Feature Importance"
   ]
  },
  {
   "cell_type": "code",
   "execution_count": 53,
   "metadata": {
    "ExecuteTime": {
     "end_time": "2021-11-17T15:11:41.336929Z",
     "start_time": "2021-11-17T15:11:41.308992Z"
    }
   },
   "outputs": [
    {
     "data": {
      "text/plain": [
       "array([2.99921560e-04, 1.28062470e-01, 3.52064901e-02, 3.90663806e-02,\n",
       "       2.56525329e-02, 2.58281741e-02, 1.64852901e-01, 2.34136137e-01,\n",
       "       1.24367361e-01, 2.56556225e-02, 3.93591057e-02, 1.57428285e-01,\n",
       "       0.00000000e+00, 8.46181944e-05])"
      ]
     },
     "execution_count": 53,
     "metadata": {},
     "output_type": "execute_result"
    }
   ],
   "source": [
    "clf.feature_importances_"
   ]
  },
  {
   "cell_type": "code",
   "execution_count": 5,
   "metadata": {
    "ExecuteTime": {
     "end_time": "2021-11-19T07:14:54.060231Z",
     "start_time": "2021-11-19T07:14:53.957129Z"
    }
   },
   "outputs": [],
   "source": [
    "names = [\n",
    "    'HOURS', 'HDB', 'PRIVATE', 'COMM', 'INDU', 'CYCLPATH', 'BUS_STOP',\n",
    "    'ROADINT', 'ROAD_LIN', 'ENTROPY', 'MRTDIST', 'DISTCEN', 'LABORFREE',\n",
    "    'WENDFREE'\n",
    "]\n",
    "\n",
    "values = [2.99921560e-04, 1.28062470e-01, 3.52064901e-02, 3.90663806e-02,\n",
    "       2.56525329e-02, 2.58281741e-02, 1.64852901e-01, 2.34136137e-01,\n",
    "       1.24367361e-01, 2.56556225e-02, 3.93591057e-02, 1.57428285e-01,\n",
    "       0.00000000e+00, 8.46181944e-05]\n",
    "coe_values = np.array(values).round(4)"
   ]
  },
  {
   "cell_type": "code",
   "execution_count": 6,
   "metadata": {
    "ExecuteTime": {
     "end_time": "2021-11-19T07:14:55.976057Z",
     "start_time": "2021-11-19T07:14:55.594271Z"
    },
    "collapsed": true,
    "jupyter": {
     "outputs_hidden": true
    }
   },
   "outputs": [
    {
     "data": {
      "text/html": [
       "<div>\n",
       "<style scoped>\n",
       "    .dataframe tbody tr th:only-of-type {\n",
       "        vertical-align: middle;\n",
       "    }\n",
       "\n",
       "    .dataframe tbody tr th {\n",
       "        vertical-align: top;\n",
       "    }\n",
       "\n",
       "    .dataframe thead th {\n",
       "        text-align: right;\n",
       "    }\n",
       "</style>\n",
       "<table border=\"1\" class=\"dataframe\">\n",
       "  <thead>\n",
       "    <tr style=\"text-align: right;\">\n",
       "      <th></th>\n",
       "      <th>names</th>\n",
       "      <th>values</th>\n",
       "    </tr>\n",
       "  </thead>\n",
       "  <tbody>\n",
       "    <tr>\n",
       "      <th>7</th>\n",
       "      <td>ROADINT</td>\n",
       "      <td>0.2341</td>\n",
       "    </tr>\n",
       "    <tr>\n",
       "      <th>6</th>\n",
       "      <td>BUS_STOP</td>\n",
       "      <td>0.1649</td>\n",
       "    </tr>\n",
       "    <tr>\n",
       "      <th>11</th>\n",
       "      <td>DISTCEN</td>\n",
       "      <td>0.1574</td>\n",
       "    </tr>\n",
       "    <tr>\n",
       "      <th>1</th>\n",
       "      <td>HDB</td>\n",
       "      <td>0.1281</td>\n",
       "    </tr>\n",
       "    <tr>\n",
       "      <th>8</th>\n",
       "      <td>ROAD_LIN</td>\n",
       "      <td>0.1244</td>\n",
       "    </tr>\n",
       "    <tr>\n",
       "      <th>10</th>\n",
       "      <td>MRTDIST</td>\n",
       "      <td>0.0394</td>\n",
       "    </tr>\n",
       "    <tr>\n",
       "      <th>3</th>\n",
       "      <td>COMM</td>\n",
       "      <td>0.0391</td>\n",
       "    </tr>\n",
       "    <tr>\n",
       "      <th>2</th>\n",
       "      <td>PRIVATE</td>\n",
       "      <td>0.0352</td>\n",
       "    </tr>\n",
       "    <tr>\n",
       "      <th>5</th>\n",
       "      <td>CYCLPATH</td>\n",
       "      <td>0.0258</td>\n",
       "    </tr>\n",
       "    <tr>\n",
       "      <th>4</th>\n",
       "      <td>INDU</td>\n",
       "      <td>0.0257</td>\n",
       "    </tr>\n",
       "    <tr>\n",
       "      <th>9</th>\n",
       "      <td>ENTROPY</td>\n",
       "      <td>0.0257</td>\n",
       "    </tr>\n",
       "    <tr>\n",
       "      <th>0</th>\n",
       "      <td>HOURS</td>\n",
       "      <td>0.0003</td>\n",
       "    </tr>\n",
       "    <tr>\n",
       "      <th>13</th>\n",
       "      <td>WENDFREE</td>\n",
       "      <td>0.0001</td>\n",
       "    </tr>\n",
       "    <tr>\n",
       "      <th>12</th>\n",
       "      <td>LABORFREE</td>\n",
       "      <td>0.0000</td>\n",
       "    </tr>\n",
       "  </tbody>\n",
       "</table>\n",
       "</div>"
      ],
      "text/plain": [
       "        names  values\n",
       "7     ROADINT  0.2341\n",
       "6    BUS_STOP  0.1649\n",
       "11    DISTCEN  0.1574\n",
       "1         HDB  0.1281\n",
       "8    ROAD_LIN  0.1244\n",
       "10    MRTDIST  0.0394\n",
       "3        COMM  0.0391\n",
       "2     PRIVATE  0.0352\n",
       "5    CYCLPATH  0.0258\n",
       "4        INDU  0.0257\n",
       "9     ENTROPY  0.0257\n",
       "0       HOURS  0.0003\n",
       "13   WENDFREE  0.0001\n",
       "12  LABORFREE  0.0000"
      ]
     },
     "execution_count": 6,
     "metadata": {},
     "output_type": "execute_result"
    }
   ],
   "source": [
    "df_names = pd.DataFrame(names,columns=['names'])\n",
    "df_values = pd.DataFrame(coe_values,columns=['values'])\n",
    "df_coe = pd.concat([df_names,df_values],axis=1)\n",
    "df_coe.sort_values(by=\"values\", ascending=False,inplace=True)\n",
    "df_coe"
   ]
  },
  {
   "cell_type": "code",
   "execution_count": 10,
   "metadata": {
    "ExecuteTime": {
     "end_time": "2021-11-19T07:15:23.308998Z",
     "start_time": "2021-11-19T07:15:23.101973Z"
    }
   },
   "outputs": [
    {
     "data": {
      "image/png": "[encoded data removed]",
      "text/plain": [
       "<Figure size 1080x360 with 1 Axes>"
      ]
     },
     "metadata": {
      "needs_background": "light"
     },
     "output_type": "display_data"
    }
   ],
   "source": [
    "plt.figure(figsize=(15,5))\n",
    "plt.bar(df_coe[\"names\"], df_coe[\"values\"])\n",
    "plt.title(\"RandomForest Feature Importance\")\n",
    "plt.tight_layout()\n",
    "plt.show()"
   ]
  }
 ],
 "metadata": {
  "hide_input": false,
  "kernelspec": {
   "display_name": "Python 3",
   "language": "python",
   "name": "python3"
  },
  "language_info": {
   "codemirror_mode": {
    "name": "ipython",
    "version": 3
   },
   "file_extension": ".py",
   "mimetype": "text/x-python",
   "name": "python",
   "nbconvert_exporter": "python",
   "pygments_lexer": "ipython3",
   "version": "3.7.4"
  },
  "toc": {
   "base_numbering": 1,
   "nav_menu": {},
   "number_sections": true,
   "sideBar": true,
   "skip_h1_title": false,
   "title_cell": "Table of Contents",
   "title_sidebar": "Contents",
   "toc_cell": false,
   "toc_position": {
    "height": "calc(100% - 180px)",
    "left": "10px",
    "top": "150px",
    "width": "165px"
   },
   "toc_section_display": true,
   "toc_window_display": true
  }
 },
 "nbformat": 4,
 "nbformat_minor": 4
}
